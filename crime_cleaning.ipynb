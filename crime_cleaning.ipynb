{
 "cells": [
  {
   "cell_type": "markdown",
   "metadata": {},
   "source": [
    "# Cleaning Chicago Crime Data"
   ]
  },
  {
   "cell_type": "markdown",
   "metadata": {},
   "source": [
    "I have downloaded the dataset from [the City of Chicago Data Portal](https://data.cityofchicago.org/Public-Safety/Crimes-2001-to-Present/ijzp-q8t2). The data includes all crime information occurred in Chicago since 2001 AND recorded by CPD's CLEAR (Citizen Law Enforcement Analysis and Reporting) system. The data is broken down by factors such as time, crime id, offense type, arrest, and crime location. \n",
    "\n",
    "The end purpose of this notebook is to fully clean the data, possibly by developing a pipeline, and to reduce difficulties in future analysis and visualization. This outcome is achieved through three steps: in step 1, we condense the dataset by truancating crimes that happened before 2015; in step 2, we clean the simplified data by transforming variable types, deselecting unnecessary information, and ...(to be filled), and lastly, in step 3, we produce summary tables and graphs. \n"
   ]
  },
  {
   "cell_type": "markdown",
   "metadata": {},
   "source": [
    "## Step 0: Loading libraries"
   ]
  },
  {
   "cell_type": "markdown",
   "metadata": {},
   "source": [
    "We will use `json` and `requests` for basic data gathering, `pandas` and `numpy` for data cleaning and wrangling, and `matplotlib` and `seaborn` for visualization."
   ]
  },
  {
   "cell_type": "code",
   "execution_count": 1,
   "metadata": {},
   "outputs": [],
   "source": [
    "import json\n",
    "import requests\n",
    "import pandas as pd\n",
    "import numpy as np\n",
    "# import matplotlib "
   ]
  },
  {
   "cell_type": "markdown",
   "metadata": {},
   "source": [
    "## Part I: Initial Data Cleaning\n",
    "\n",
    "Before moving to any analysis, I need to cut out the data size to only include data from year 2015 in order to be consistent with the time frame in other data of this project. To do that, I filtered the data by variable `Year` and save the new, filtered dataset in the `data` subdirectory."
   ]
  },
  {
   "cell_type": "code",
   "execution_count": 2,
   "metadata": {},
   "outputs": [
    {
     "name": "stderr",
     "output_type": "stream",
     "text": [
      "c:\\Users\\liu00\\anaconda3\\lib\\site-packages\\IPython\\core\\interactiveshell.py:3146: DtypeWarning: Columns (21) have mixed types.Specify dtype option on import or set low_memory=False.\n",
      "  has_raised = await self.run_ast_nodes(code_ast.body, cell_name,\n"
     ]
    }
   ],
   "source": [
    "crime_all_data = pd.read_csv(\"Crimes_2001_to_Present.csv\")"
   ]
  },
  {
   "cell_type": "markdown",
   "metadata": {},
   "source": [
    "Our dataframe has over 7M data and 20+ variables!! Thinking about the space needed to store these 7M data, this is clearly too many rows. With this large data size, transforming the data will also be very time-consuming. We surely don't want to spend hours waiting for the codes to run, right? We thus need to reduce the dimension by filtering out data that is out of scope of our analysis."
   ]
  },
  {
   "cell_type": "code",
   "execution_count": 4,
   "metadata": {},
   "outputs": [
    {
     "data": {
      "text/plain": [
       "(7642176, 22)"
      ]
     },
     "execution_count": 4,
     "metadata": {},
     "output_type": "execute_result"
    }
   ],
   "source": [
    "crime_all_data.shape"
   ]
  },
  {
   "cell_type": "code",
   "execution_count": 9,
   "metadata": {},
   "outputs": [],
   "source": [
    "crime_all_data[crime_all_data.Year >= 2015].to_csv(\"data/crimes_from_2015.csv\", index= False)"
   ]
  },
  {
   "cell_type": "markdown",
   "metadata": {},
   "source": [
    "## Part II Data Cleaning and Wrangling"
   ]
  },
  {
   "cell_type": "markdown",
   "metadata": {},
   "source": [
    "After getting the dataset that has gone through dimension reduction steps, now is a great time to peak at our data! What information does the data provide? How many people were arrested during the time frame? Which year has the most crimes in Chicago? What's the most occurred crime type? Which police district had the most crimes and arrests? These are just some of the many questions we can think of.\n",
    "\n",
    "But first, let's look at our data! What are these 22 variables? We use the first 10 rows to grasp a sense of what our data looks like."
   ]
  },
  {
   "cell_type": "code",
   "execution_count": 26,
   "metadata": {},
   "outputs": [
    {
     "name": "stderr",
     "output_type": "stream",
     "text": [
      "c:\\Users\\liu00\\anaconda3\\lib\\site-packages\\IPython\\core\\interactiveshell.py:3146: DtypeWarning: Columns (21) have mixed types.Specify dtype option on import or set low_memory=False.\n",
      "  has_raised = await self.run_ast_nodes(code_ast.body, cell_name,\n"
     ]
    }
   ],
   "source": [
    "crimes = pd.read_csv(\"data/crimes_from_2015.csv\")"
   ]
  },
  {
   "cell_type": "markdown",
   "metadata": {},
   "source": [
    "Our data now has 1.9M rows. This is 3/4 down from the original dataset"
   ]
  },
  {
   "cell_type": "code",
   "execution_count": 29,
   "metadata": {},
   "outputs": [
    {
     "data": {
      "text/plain": [
       "(1923350, 22)"
      ]
     },
     "execution_count": 29,
     "metadata": {},
     "output_type": "execute_result"
    }
   ],
   "source": [
    "crimes.shape"
   ]
  },
  {
   "cell_type": "code",
   "execution_count": 13,
   "metadata": {},
   "outputs": [
    {
     "data": {
      "text/html": [
       "<div>\n",
       "<style scoped>\n",
       "    .dataframe tbody tr th:only-of-type {\n",
       "        vertical-align: middle;\n",
       "    }\n",
       "\n",
       "    .dataframe tbody tr th {\n",
       "        vertical-align: top;\n",
       "    }\n",
       "\n",
       "    .dataframe thead th {\n",
       "        text-align: right;\n",
       "    }\n",
       "</style>\n",
       "<table border=\"1\" class=\"dataframe\">\n",
       "  <thead>\n",
       "    <tr style=\"text-align: right;\">\n",
       "      <th></th>\n",
       "      <th>ID</th>\n",
       "      <th>Case Number</th>\n",
       "      <th>Date</th>\n",
       "      <th>Block</th>\n",
       "      <th>IUCR</th>\n",
       "      <th>Primary Type</th>\n",
       "      <th>Description</th>\n",
       "      <th>Location Description</th>\n",
       "      <th>Arrest</th>\n",
       "      <th>Domestic</th>\n",
       "      <th>...</th>\n",
       "      <th>Ward</th>\n",
       "      <th>Community Area</th>\n",
       "      <th>FBI Code</th>\n",
       "      <th>X Coordinate</th>\n",
       "      <th>Y Coordinate</th>\n",
       "      <th>Year</th>\n",
       "      <th>Updated On</th>\n",
       "      <th>Latitude</th>\n",
       "      <th>Longitude</th>\n",
       "      <th>Location</th>\n",
       "    </tr>\n",
       "  </thead>\n",
       "  <tbody>\n",
       "    <tr>\n",
       "      <th>0</th>\n",
       "      <td>10224738</td>\n",
       "      <td>HY411648</td>\n",
       "      <td>09/05/2015 01:30:00 PM</td>\n",
       "      <td>043XX S WOOD ST</td>\n",
       "      <td>0486</td>\n",
       "      <td>BATTERY</td>\n",
       "      <td>DOMESTIC BATTERY SIMPLE</td>\n",
       "      <td>RESIDENCE</td>\n",
       "      <td>False</td>\n",
       "      <td>True</td>\n",
       "      <td>...</td>\n",
       "      <td>12.0</td>\n",
       "      <td>61.0</td>\n",
       "      <td>08B</td>\n",
       "      <td>1165074.0</td>\n",
       "      <td>1875917.0</td>\n",
       "      <td>2015</td>\n",
       "      <td>02/10/2018 03:50:01 PM</td>\n",
       "      <td>41.815117</td>\n",
       "      <td>-87.670000</td>\n",
       "      <td>(41.815117282, -87.669999562)</td>\n",
       "    </tr>\n",
       "    <tr>\n",
       "      <th>1</th>\n",
       "      <td>10224739</td>\n",
       "      <td>HY411615</td>\n",
       "      <td>09/04/2015 11:30:00 AM</td>\n",
       "      <td>008XX N CENTRAL AVE</td>\n",
       "      <td>0870</td>\n",
       "      <td>THEFT</td>\n",
       "      <td>POCKET-PICKING</td>\n",
       "      <td>CTA BUS</td>\n",
       "      <td>False</td>\n",
       "      <td>False</td>\n",
       "      <td>...</td>\n",
       "      <td>29.0</td>\n",
       "      <td>25.0</td>\n",
       "      <td>06</td>\n",
       "      <td>1138875.0</td>\n",
       "      <td>1904869.0</td>\n",
       "      <td>2015</td>\n",
       "      <td>02/10/2018 03:50:01 PM</td>\n",
       "      <td>41.895080</td>\n",
       "      <td>-87.765400</td>\n",
       "      <td>(41.895080471, -87.765400451)</td>\n",
       "    </tr>\n",
       "    <tr>\n",
       "      <th>2</th>\n",
       "      <td>11646166</td>\n",
       "      <td>JC213529</td>\n",
       "      <td>09/01/2018 12:01:00 AM</td>\n",
       "      <td>082XX S INGLESIDE AVE</td>\n",
       "      <td>0810</td>\n",
       "      <td>THEFT</td>\n",
       "      <td>OVER $500</td>\n",
       "      <td>RESIDENCE</td>\n",
       "      <td>False</td>\n",
       "      <td>True</td>\n",
       "      <td>...</td>\n",
       "      <td>8.0</td>\n",
       "      <td>44.0</td>\n",
       "      <td>06</td>\n",
       "      <td>NaN</td>\n",
       "      <td>NaN</td>\n",
       "      <td>2018</td>\n",
       "      <td>04/06/2019 04:04:43 PM</td>\n",
       "      <td>NaN</td>\n",
       "      <td>NaN</td>\n",
       "      <td>NaN</td>\n",
       "    </tr>\n",
       "    <tr>\n",
       "      <th>3</th>\n",
       "      <td>10224740</td>\n",
       "      <td>HY411595</td>\n",
       "      <td>09/05/2015 12:45:00 PM</td>\n",
       "      <td>035XX W BARRY AVE</td>\n",
       "      <td>2023</td>\n",
       "      <td>NARCOTICS</td>\n",
       "      <td>POSS: HEROIN(BRN/TAN)</td>\n",
       "      <td>SIDEWALK</td>\n",
       "      <td>True</td>\n",
       "      <td>False</td>\n",
       "      <td>...</td>\n",
       "      <td>35.0</td>\n",
       "      <td>21.0</td>\n",
       "      <td>18</td>\n",
       "      <td>1152037.0</td>\n",
       "      <td>1920384.0</td>\n",
       "      <td>2015</td>\n",
       "      <td>02/10/2018 03:50:01 PM</td>\n",
       "      <td>41.937406</td>\n",
       "      <td>-87.716650</td>\n",
       "      <td>(41.937405765, -87.716649687)</td>\n",
       "    </tr>\n",
       "    <tr>\n",
       "      <th>4</th>\n",
       "      <td>10224741</td>\n",
       "      <td>HY411610</td>\n",
       "      <td>09/05/2015 01:00:00 PM</td>\n",
       "      <td>0000X N LARAMIE AVE</td>\n",
       "      <td>0560</td>\n",
       "      <td>ASSAULT</td>\n",
       "      <td>SIMPLE</td>\n",
       "      <td>APARTMENT</td>\n",
       "      <td>False</td>\n",
       "      <td>True</td>\n",
       "      <td>...</td>\n",
       "      <td>28.0</td>\n",
       "      <td>25.0</td>\n",
       "      <td>08A</td>\n",
       "      <td>1141706.0</td>\n",
       "      <td>1900086.0</td>\n",
       "      <td>2015</td>\n",
       "      <td>02/10/2018 03:50:01 PM</td>\n",
       "      <td>41.881903</td>\n",
       "      <td>-87.755121</td>\n",
       "      <td>(41.881903443, -87.755121152)</td>\n",
       "    </tr>\n",
       "    <tr>\n",
       "      <th>5</th>\n",
       "      <td>10224742</td>\n",
       "      <td>HY411435</td>\n",
       "      <td>09/05/2015 10:55:00 AM</td>\n",
       "      <td>082XX S LOOMIS BLVD</td>\n",
       "      <td>0610</td>\n",
       "      <td>BURGLARY</td>\n",
       "      <td>FORCIBLE ENTRY</td>\n",
       "      <td>RESIDENCE</td>\n",
       "      <td>False</td>\n",
       "      <td>False</td>\n",
       "      <td>...</td>\n",
       "      <td>21.0</td>\n",
       "      <td>71.0</td>\n",
       "      <td>05</td>\n",
       "      <td>1168430.0</td>\n",
       "      <td>1850165.0</td>\n",
       "      <td>2015</td>\n",
       "      <td>02/10/2018 03:50:01 PM</td>\n",
       "      <td>41.744379</td>\n",
       "      <td>-87.658431</td>\n",
       "      <td>(41.744378879, -87.658430635)</td>\n",
       "    </tr>\n",
       "    <tr>\n",
       "      <th>6</th>\n",
       "      <td>10224743</td>\n",
       "      <td>HY411629</td>\n",
       "      <td>09/04/2015 06:00:00 PM</td>\n",
       "      <td>021XX W CHURCHILL ST</td>\n",
       "      <td>0620</td>\n",
       "      <td>BURGLARY</td>\n",
       "      <td>UNLAWFUL ENTRY</td>\n",
       "      <td>RESIDENCE-GARAGE</td>\n",
       "      <td>False</td>\n",
       "      <td>False</td>\n",
       "      <td>...</td>\n",
       "      <td>32.0</td>\n",
       "      <td>24.0</td>\n",
       "      <td>05</td>\n",
       "      <td>1161628.0</td>\n",
       "      <td>1912157.0</td>\n",
       "      <td>2015</td>\n",
       "      <td>02/10/2018 03:50:01 PM</td>\n",
       "      <td>41.914636</td>\n",
       "      <td>-87.681631</td>\n",
       "      <td>(41.914635603, -87.681630909)</td>\n",
       "    </tr>\n",
       "    <tr>\n",
       "      <th>7</th>\n",
       "      <td>10224744</td>\n",
       "      <td>HY411605</td>\n",
       "      <td>09/05/2015 01:00:00 PM</td>\n",
       "      <td>025XX W CERMAK RD</td>\n",
       "      <td>0860</td>\n",
       "      <td>THEFT</td>\n",
       "      <td>RETAIL THEFT</td>\n",
       "      <td>GROCERY FOOD STORE</td>\n",
       "      <td>True</td>\n",
       "      <td>False</td>\n",
       "      <td>...</td>\n",
       "      <td>25.0</td>\n",
       "      <td>31.0</td>\n",
       "      <td>06</td>\n",
       "      <td>1159734.0</td>\n",
       "      <td>1889313.0</td>\n",
       "      <td>2015</td>\n",
       "      <td>09/17/2015 11:37:18 AM</td>\n",
       "      <td>41.851989</td>\n",
       "      <td>-87.689219</td>\n",
       "      <td>(41.851988885, -87.689219118)</td>\n",
       "    </tr>\n",
       "    <tr>\n",
       "      <th>8</th>\n",
       "      <td>10224745</td>\n",
       "      <td>HY411654</td>\n",
       "      <td>09/05/2015 11:30:00 AM</td>\n",
       "      <td>031XX W WASHINGTON BLVD</td>\n",
       "      <td>0320</td>\n",
       "      <td>ROBBERY</td>\n",
       "      <td>STRONGARM - NO WEAPON</td>\n",
       "      <td>STREET</td>\n",
       "      <td>False</td>\n",
       "      <td>True</td>\n",
       "      <td>...</td>\n",
       "      <td>27.0</td>\n",
       "      <td>27.0</td>\n",
       "      <td>03</td>\n",
       "      <td>1155536.0</td>\n",
       "      <td>1900515.0</td>\n",
       "      <td>2015</td>\n",
       "      <td>02/10/2018 03:50:01 PM</td>\n",
       "      <td>41.882814</td>\n",
       "      <td>-87.704326</td>\n",
       "      <td>(41.88281374, -87.704325717)</td>\n",
       "    </tr>\n",
       "    <tr>\n",
       "      <th>9</th>\n",
       "      <td>11645836</td>\n",
       "      <td>JC212333</td>\n",
       "      <td>05/01/2016 12:25:00 AM</td>\n",
       "      <td>055XX S ROCKWELL ST</td>\n",
       "      <td>1153</td>\n",
       "      <td>DECEPTIVE PRACTICE</td>\n",
       "      <td>FINANCIAL IDENTITY THEFT OVER $ 300</td>\n",
       "      <td>NaN</td>\n",
       "      <td>False</td>\n",
       "      <td>False</td>\n",
       "      <td>...</td>\n",
       "      <td>15.0</td>\n",
       "      <td>63.0</td>\n",
       "      <td>11</td>\n",
       "      <td>NaN</td>\n",
       "      <td>NaN</td>\n",
       "      <td>2016</td>\n",
       "      <td>04/06/2019 04:04:43 PM</td>\n",
       "      <td>NaN</td>\n",
       "      <td>NaN</td>\n",
       "      <td>NaN</td>\n",
       "    </tr>\n",
       "  </tbody>\n",
       "</table>\n",
       "<p>10 rows × 22 columns</p>\n",
       "</div>"
      ],
      "text/plain": [
       "         ID Case Number                    Date                    Block  \\\n",
       "0  10224738    HY411648  09/05/2015 01:30:00 PM          043XX S WOOD ST   \n",
       "1  10224739    HY411615  09/04/2015 11:30:00 AM      008XX N CENTRAL AVE   \n",
       "2  11646166    JC213529  09/01/2018 12:01:00 AM    082XX S INGLESIDE AVE   \n",
       "3  10224740    HY411595  09/05/2015 12:45:00 PM        035XX W BARRY AVE   \n",
       "4  10224741    HY411610  09/05/2015 01:00:00 PM      0000X N LARAMIE AVE   \n",
       "5  10224742    HY411435  09/05/2015 10:55:00 AM      082XX S LOOMIS BLVD   \n",
       "6  10224743    HY411629  09/04/2015 06:00:00 PM     021XX W CHURCHILL ST   \n",
       "7  10224744    HY411605  09/05/2015 01:00:00 PM        025XX W CERMAK RD   \n",
       "8  10224745    HY411654  09/05/2015 11:30:00 AM  031XX W WASHINGTON BLVD   \n",
       "9  11645836    JC212333  05/01/2016 12:25:00 AM      055XX S ROCKWELL ST   \n",
       "\n",
       "   IUCR        Primary Type                          Description  \\\n",
       "0  0486             BATTERY              DOMESTIC BATTERY SIMPLE   \n",
       "1  0870               THEFT                       POCKET-PICKING   \n",
       "2  0810               THEFT                            OVER $500   \n",
       "3  2023           NARCOTICS                POSS: HEROIN(BRN/TAN)   \n",
       "4  0560             ASSAULT                               SIMPLE   \n",
       "5  0610            BURGLARY                       FORCIBLE ENTRY   \n",
       "6  0620            BURGLARY                       UNLAWFUL ENTRY   \n",
       "7  0860               THEFT                         RETAIL THEFT   \n",
       "8  0320             ROBBERY                STRONGARM - NO WEAPON   \n",
       "9  1153  DECEPTIVE PRACTICE  FINANCIAL IDENTITY THEFT OVER $ 300   \n",
       "\n",
       "  Location Description  Arrest  Domestic  ...  Ward  Community Area  FBI Code  \\\n",
       "0            RESIDENCE   False      True  ...  12.0            61.0       08B   \n",
       "1              CTA BUS   False     False  ...  29.0            25.0        06   \n",
       "2            RESIDENCE   False      True  ...   8.0            44.0        06   \n",
       "3             SIDEWALK    True     False  ...  35.0            21.0        18   \n",
       "4            APARTMENT   False      True  ...  28.0            25.0       08A   \n",
       "5            RESIDENCE   False     False  ...  21.0            71.0        05   \n",
       "6     RESIDENCE-GARAGE   False     False  ...  32.0            24.0        05   \n",
       "7   GROCERY FOOD STORE    True     False  ...  25.0            31.0        06   \n",
       "8               STREET   False      True  ...  27.0            27.0        03   \n",
       "9                  NaN   False     False  ...  15.0            63.0        11   \n",
       "\n",
       "   X Coordinate Y Coordinate  Year              Updated On   Latitude  \\\n",
       "0     1165074.0    1875917.0  2015  02/10/2018 03:50:01 PM  41.815117   \n",
       "1     1138875.0    1904869.0  2015  02/10/2018 03:50:01 PM  41.895080   \n",
       "2           NaN          NaN  2018  04/06/2019 04:04:43 PM        NaN   \n",
       "3     1152037.0    1920384.0  2015  02/10/2018 03:50:01 PM  41.937406   \n",
       "4     1141706.0    1900086.0  2015  02/10/2018 03:50:01 PM  41.881903   \n",
       "5     1168430.0    1850165.0  2015  02/10/2018 03:50:01 PM  41.744379   \n",
       "6     1161628.0    1912157.0  2015  02/10/2018 03:50:01 PM  41.914636   \n",
       "7     1159734.0    1889313.0  2015  09/17/2015 11:37:18 AM  41.851989   \n",
       "8     1155536.0    1900515.0  2015  02/10/2018 03:50:01 PM  41.882814   \n",
       "9           NaN          NaN  2016  04/06/2019 04:04:43 PM        NaN   \n",
       "\n",
       "   Longitude                       Location  \n",
       "0 -87.670000  (41.815117282, -87.669999562)  \n",
       "1 -87.765400  (41.895080471, -87.765400451)  \n",
       "2        NaN                            NaN  \n",
       "3 -87.716650  (41.937405765, -87.716649687)  \n",
       "4 -87.755121  (41.881903443, -87.755121152)  \n",
       "5 -87.658431  (41.744378879, -87.658430635)  \n",
       "6 -87.681631  (41.914635603, -87.681630909)  \n",
       "7 -87.689219  (41.851988885, -87.689219118)  \n",
       "8 -87.704326   (41.88281374, -87.704325717)  \n",
       "9        NaN                            NaN  \n",
       "\n",
       "[10 rows x 22 columns]"
      ]
     },
     "execution_count": 13,
     "metadata": {},
     "output_type": "execute_result"
    }
   ],
   "source": [
    "crimes.head(10)"
   ]
  },
  {
   "cell_type": "markdown",
   "metadata": {},
   "source": [
    "The 22 variables can be roughly grouped into a few categories:\n",
    "\n",
    "| Category | Variables Belong to this Category|\n",
    "| ------ | ------------------------|\n",
    "| Crime| ID, Case Number |\n",
    "| Crime Type and Info | IUCR, Primary Type, Description, Arrest, Domestic, FBI Code\n",
    "| Time| Date, Year, Updated On|\n",
    "| Location| Block, Location Description, Ward, Community Area|\n",
    "| Police Area| Beat, District|\n",
    "| Geographic Location| X Coordinate, Y Coordinate, Longitude, Latitude, Location|\n",
    "\n",
    "These 22 variables own 4 data types: int65 (representing integer), (Pandas) object (this is pandas' way of calling strings, i.e. words), bool (booleans, i.e. T/F), and float (numbers with decimals). "
   ]
  },
  {
   "cell_type": "code",
   "execution_count": 17,
   "metadata": {},
   "outputs": [
    {
     "data": {
      "text/plain": [
       "ID                        int64\n",
       "Case Number              object\n",
       "Date                     object\n",
       "Block                    object\n",
       "IUCR                     object\n",
       "Primary Type             object\n",
       "Description              object\n",
       "Location Description     object\n",
       "Arrest                     bool\n",
       "Domestic                   bool\n",
       "Beat                      int64\n",
       "District                float64\n",
       "Ward                    float64\n",
       "Community Area          float64\n",
       "FBI Code                 object\n",
       "X Coordinate            float64\n",
       "Y Coordinate            float64\n",
       "Year                      int64\n",
       "Updated On               object\n",
       "Latitude                float64\n",
       "Longitude               float64\n",
       "Location                 object\n",
       "dtype: object"
      ]
     },
     "execution_count": 17,
     "metadata": {},
     "output_type": "execute_result"
    }
   ],
   "source": [
    "crimes.dtypes"
   ]
  },
  {
   "cell_type": "markdown",
   "metadata": {},
   "source": [
    "As we are able to tell from the table above, there are a lot of overlaps on the information in each category. For example, `IUCR` and `FBI Code` represent the same type of crime but under distinct crime classification systems (IUCR stands for Illinois Uniform Crime Report), for which we can pick one of them. Similarily, `block`, `ward`, and `community areas` represent the same location on different scales. Moreover, some variables are related. For instance, because variables `primary type` and `description` are both explanations to the IUCR code, we can use the former twp to replace the latter, which gives us a more intuitive sense of the crime that corresponds to the case number. With this being known, within each category, we only need to pick variables that best characterize the information. These variables are:\n",
    "  \n",
    "| Category | Variables Belong to this Category|\n",
    "| ------ | ------------------------|\n",
    "| Crime| Case Number |\n",
    "| Crime Type and Info |Primary Type, Description, Arrest, Domestic|\n",
    "| Time| Date, Year|\n",
    "| Location| Location Description, Ward, Community Area|\n",
    "| Police Area| Beat, District|\n",
    "| Geographic Location|Longitude, Latitude|"
   ]
  },
  {
   "cell_type": "code",
   "execution_count": 34,
   "metadata": {},
   "outputs": [
    {
     "data": {
      "text/html": [
       "<div>\n",
       "<style scoped>\n",
       "    .dataframe tbody tr th:only-of-type {\n",
       "        vertical-align: middle;\n",
       "    }\n",
       "\n",
       "    .dataframe tbody tr th {\n",
       "        vertical-align: top;\n",
       "    }\n",
       "\n",
       "    .dataframe thead th {\n",
       "        text-align: right;\n",
       "    }\n",
       "</style>\n",
       "<table border=\"1\" class=\"dataframe\">\n",
       "  <thead>\n",
       "    <tr style=\"text-align: right;\">\n",
       "      <th></th>\n",
       "      <th>Case Number</th>\n",
       "      <th>Date</th>\n",
       "      <th>Primary Type</th>\n",
       "      <th>Description</th>\n",
       "      <th>Location Description</th>\n",
       "      <th>Arrest</th>\n",
       "      <th>Domestic</th>\n",
       "      <th>Beat</th>\n",
       "      <th>District</th>\n",
       "      <th>Ward</th>\n",
       "      <th>Community Area</th>\n",
       "      <th>Year</th>\n",
       "      <th>Latitude</th>\n",
       "      <th>Longitude</th>\n",
       "    </tr>\n",
       "  </thead>\n",
       "  <tbody>\n",
       "    <tr>\n",
       "      <th>0</th>\n",
       "      <td>HY411648</td>\n",
       "      <td>09/05/2015 01:30:00 PM</td>\n",
       "      <td>BATTERY</td>\n",
       "      <td>DOMESTIC BATTERY SIMPLE</td>\n",
       "      <td>RESIDENCE</td>\n",
       "      <td>False</td>\n",
       "      <td>True</td>\n",
       "      <td>924</td>\n",
       "      <td>9.0</td>\n",
       "      <td>12.0</td>\n",
       "      <td>61.0</td>\n",
       "      <td>2015</td>\n",
       "      <td>41.815117</td>\n",
       "      <td>-87.670000</td>\n",
       "    </tr>\n",
       "    <tr>\n",
       "      <th>1</th>\n",
       "      <td>HY411615</td>\n",
       "      <td>09/04/2015 11:30:00 AM</td>\n",
       "      <td>THEFT</td>\n",
       "      <td>POCKET-PICKING</td>\n",
       "      <td>CTA BUS</td>\n",
       "      <td>False</td>\n",
       "      <td>False</td>\n",
       "      <td>1511</td>\n",
       "      <td>15.0</td>\n",
       "      <td>29.0</td>\n",
       "      <td>25.0</td>\n",
       "      <td>2015</td>\n",
       "      <td>41.895080</td>\n",
       "      <td>-87.765400</td>\n",
       "    </tr>\n",
       "    <tr>\n",
       "      <th>2</th>\n",
       "      <td>JC213529</td>\n",
       "      <td>09/01/2018 12:01:00 AM</td>\n",
       "      <td>THEFT</td>\n",
       "      <td>OVER $500</td>\n",
       "      <td>RESIDENCE</td>\n",
       "      <td>False</td>\n",
       "      <td>True</td>\n",
       "      <td>631</td>\n",
       "      <td>6.0</td>\n",
       "      <td>8.0</td>\n",
       "      <td>44.0</td>\n",
       "      <td>2018</td>\n",
       "      <td>NaN</td>\n",
       "      <td>NaN</td>\n",
       "    </tr>\n",
       "    <tr>\n",
       "      <th>3</th>\n",
       "      <td>HY411595</td>\n",
       "      <td>09/05/2015 12:45:00 PM</td>\n",
       "      <td>NARCOTICS</td>\n",
       "      <td>POSS: HEROIN(BRN/TAN)</td>\n",
       "      <td>SIDEWALK</td>\n",
       "      <td>True</td>\n",
       "      <td>False</td>\n",
       "      <td>1412</td>\n",
       "      <td>14.0</td>\n",
       "      <td>35.0</td>\n",
       "      <td>21.0</td>\n",
       "      <td>2015</td>\n",
       "      <td>41.937406</td>\n",
       "      <td>-87.716650</td>\n",
       "    </tr>\n",
       "    <tr>\n",
       "      <th>4</th>\n",
       "      <td>HY411610</td>\n",
       "      <td>09/05/2015 01:00:00 PM</td>\n",
       "      <td>ASSAULT</td>\n",
       "      <td>SIMPLE</td>\n",
       "      <td>APARTMENT</td>\n",
       "      <td>False</td>\n",
       "      <td>True</td>\n",
       "      <td>1522</td>\n",
       "      <td>15.0</td>\n",
       "      <td>28.0</td>\n",
       "      <td>25.0</td>\n",
       "      <td>2015</td>\n",
       "      <td>41.881903</td>\n",
       "      <td>-87.755121</td>\n",
       "    </tr>\n",
       "    <tr>\n",
       "      <th>5</th>\n",
       "      <td>HY411435</td>\n",
       "      <td>09/05/2015 10:55:00 AM</td>\n",
       "      <td>BURGLARY</td>\n",
       "      <td>FORCIBLE ENTRY</td>\n",
       "      <td>RESIDENCE</td>\n",
       "      <td>False</td>\n",
       "      <td>False</td>\n",
       "      <td>614</td>\n",
       "      <td>6.0</td>\n",
       "      <td>21.0</td>\n",
       "      <td>71.0</td>\n",
       "      <td>2015</td>\n",
       "      <td>41.744379</td>\n",
       "      <td>-87.658431</td>\n",
       "    </tr>\n",
       "    <tr>\n",
       "      <th>6</th>\n",
       "      <td>HY411629</td>\n",
       "      <td>09/04/2015 06:00:00 PM</td>\n",
       "      <td>BURGLARY</td>\n",
       "      <td>UNLAWFUL ENTRY</td>\n",
       "      <td>RESIDENCE-GARAGE</td>\n",
       "      <td>False</td>\n",
       "      <td>False</td>\n",
       "      <td>1434</td>\n",
       "      <td>14.0</td>\n",
       "      <td>32.0</td>\n",
       "      <td>24.0</td>\n",
       "      <td>2015</td>\n",
       "      <td>41.914636</td>\n",
       "      <td>-87.681631</td>\n",
       "    </tr>\n",
       "    <tr>\n",
       "      <th>7</th>\n",
       "      <td>HY411605</td>\n",
       "      <td>09/05/2015 01:00:00 PM</td>\n",
       "      <td>THEFT</td>\n",
       "      <td>RETAIL THEFT</td>\n",
       "      <td>GROCERY FOOD STORE</td>\n",
       "      <td>True</td>\n",
       "      <td>False</td>\n",
       "      <td>1034</td>\n",
       "      <td>10.0</td>\n",
       "      <td>25.0</td>\n",
       "      <td>31.0</td>\n",
       "      <td>2015</td>\n",
       "      <td>41.851989</td>\n",
       "      <td>-87.689219</td>\n",
       "    </tr>\n",
       "    <tr>\n",
       "      <th>8</th>\n",
       "      <td>HY411654</td>\n",
       "      <td>09/05/2015 11:30:00 AM</td>\n",
       "      <td>ROBBERY</td>\n",
       "      <td>STRONGARM - NO WEAPON</td>\n",
       "      <td>STREET</td>\n",
       "      <td>False</td>\n",
       "      <td>True</td>\n",
       "      <td>1222</td>\n",
       "      <td>12.0</td>\n",
       "      <td>27.0</td>\n",
       "      <td>27.0</td>\n",
       "      <td>2015</td>\n",
       "      <td>41.882814</td>\n",
       "      <td>-87.704326</td>\n",
       "    </tr>\n",
       "    <tr>\n",
       "      <th>9</th>\n",
       "      <td>JC212333</td>\n",
       "      <td>05/01/2016 12:25:00 AM</td>\n",
       "      <td>DECEPTIVE PRACTICE</td>\n",
       "      <td>FINANCIAL IDENTITY THEFT OVER $ 300</td>\n",
       "      <td>NaN</td>\n",
       "      <td>False</td>\n",
       "      <td>False</td>\n",
       "      <td>824</td>\n",
       "      <td>8.0</td>\n",
       "      <td>15.0</td>\n",
       "      <td>63.0</td>\n",
       "      <td>2016</td>\n",
       "      <td>NaN</td>\n",
       "      <td>NaN</td>\n",
       "    </tr>\n",
       "  </tbody>\n",
       "</table>\n",
       "</div>"
      ],
      "text/plain": [
       "  Case Number                    Date        Primary Type  \\\n",
       "0    HY411648  09/05/2015 01:30:00 PM             BATTERY   \n",
       "1    HY411615  09/04/2015 11:30:00 AM               THEFT   \n",
       "2    JC213529  09/01/2018 12:01:00 AM               THEFT   \n",
       "3    HY411595  09/05/2015 12:45:00 PM           NARCOTICS   \n",
       "4    HY411610  09/05/2015 01:00:00 PM             ASSAULT   \n",
       "5    HY411435  09/05/2015 10:55:00 AM            BURGLARY   \n",
       "6    HY411629  09/04/2015 06:00:00 PM            BURGLARY   \n",
       "7    HY411605  09/05/2015 01:00:00 PM               THEFT   \n",
       "8    HY411654  09/05/2015 11:30:00 AM             ROBBERY   \n",
       "9    JC212333  05/01/2016 12:25:00 AM  DECEPTIVE PRACTICE   \n",
       "\n",
       "                           Description Location Description  Arrest  Domestic  \\\n",
       "0              DOMESTIC BATTERY SIMPLE            RESIDENCE   False      True   \n",
       "1                       POCKET-PICKING              CTA BUS   False     False   \n",
       "2                            OVER $500            RESIDENCE   False      True   \n",
       "3                POSS: HEROIN(BRN/TAN)             SIDEWALK    True     False   \n",
       "4                               SIMPLE            APARTMENT   False      True   \n",
       "5                       FORCIBLE ENTRY            RESIDENCE   False     False   \n",
       "6                       UNLAWFUL ENTRY     RESIDENCE-GARAGE   False     False   \n",
       "7                         RETAIL THEFT   GROCERY FOOD STORE    True     False   \n",
       "8                STRONGARM - NO WEAPON               STREET   False      True   \n",
       "9  FINANCIAL IDENTITY THEFT OVER $ 300                  NaN   False     False   \n",
       "\n",
       "   Beat  District  Ward  Community Area  Year   Latitude  Longitude  \n",
       "0   924       9.0  12.0            61.0  2015  41.815117 -87.670000  \n",
       "1  1511      15.0  29.0            25.0  2015  41.895080 -87.765400  \n",
       "2   631       6.0   8.0            44.0  2018        NaN        NaN  \n",
       "3  1412      14.0  35.0            21.0  2015  41.937406 -87.716650  \n",
       "4  1522      15.0  28.0            25.0  2015  41.881903 -87.755121  \n",
       "5   614       6.0  21.0            71.0  2015  41.744379 -87.658431  \n",
       "6  1434      14.0  32.0            24.0  2015  41.914636 -87.681631  \n",
       "7  1034      10.0  25.0            31.0  2015  41.851989 -87.689219  \n",
       "8  1222      12.0  27.0            27.0  2015  41.882814 -87.704326  \n",
       "9   824       8.0  15.0            63.0  2016        NaN        NaN  "
      ]
     },
     "execution_count": 34,
     "metadata": {},
     "output_type": "execute_result"
    }
   ],
   "source": [
    "crime = crimes.drop([\"ID\", \"FBI Code\", \"Location\", \"Block\", \"IUCR\", \"Updated On\", \"X Coordinate\", \"Y Coordinate\"], axis = 1)\n",
    "\n",
    "crime.head(10)"
   ]
  },
  {
   "cell_type": "markdown",
   "metadata": {},
   "source": [
    "Now we are ready to do two things: change the types of some variables and inspect missing values (NaN). These two steps are important for our analysis because it boosts our familiarity with data.\n",
    "\n",
    "Let's start with looking at which columns have missing values (NAs). We found out around 10% of longitudes and latitudes are not entered to the database, which may be a drawback when we create geospatial visualizations. Around 0.4% of location description is also missing. We can ignore them at this moment because from a statisical standpoint, a small share of missing values affects little on the statistical powers of our analysis (in the context of regressions, deleting this 0.4% percent won't make our hypothese testing less valid). There are also some missing values across variables `District`, `Ward`, and `Community Area`, which we can feel safe to treat them with the complete case approach (i.e. taking out the missing data).       \n"
   ]
  },
  {
   "cell_type": "code",
   "execution_count": 42,
   "metadata": {},
   "outputs": [
    {
     "data": {
      "text/plain": [
       "Case Number                  0\n",
       "Date                         0\n",
       "Primary Type                 0\n",
       "Description                  0\n",
       "Location Description      8024\n",
       "Arrest                       0\n",
       "Domestic                     0\n",
       "Beat                         0\n",
       "District                     1\n",
       "Ward                        51\n",
       "Community Area               1\n",
       "Year                         0\n",
       "Latitude                198683\n",
       "Longitude               198683\n",
       "dtype: int64"
      ]
     },
     "execution_count": 42,
     "metadata": {},
     "output_type": "execute_result"
    }
   ],
   "source": [
    "crime.isna().sum()"
   ]
  },
  {
   "cell_type": "code",
   "execution_count": 44,
   "metadata": {},
   "outputs": [
    {
     "data": {
      "text/plain": [
       "Case Number                  0\n",
       "Date                         0\n",
       "Primary Type                 0\n",
       "Description                  0\n",
       "Location Description      8024\n",
       "Arrest                       0\n",
       "Domestic                     0\n",
       "Beat                         0\n",
       "District                     0\n",
       "Ward                         0\n",
       "Community Area               0\n",
       "Year                         0\n",
       "Latitude                198673\n",
       "Longitude               198673\n",
       "dtype: int64"
      ]
     },
     "execution_count": 44,
     "metadata": {},
     "output_type": "execute_result"
    }
   ],
   "source": [
    "crime = crime.dropna(subset=['Ward', 'District', 'Community Area'])\n",
    "crime.isna().sum()"
   ]
  },
  {
   "cell_type": "markdown",
   "metadata": {},
   "source": [
    "Next, we focus on converting variable types. This is comprised with three substeps: first, we convert `District`, `Ward`, and `Community Area` to integers; second, we convert all variables except for `Arrest`, `Domestic` (this two should stay as booleans), `Latitude`, and `Longitude` (these two should keep as floats) to strings (note here: inside the Pandas environment, object is the alias of str); lastly, we make variable `Date` a datetime object, which is a date/time-specific type in Python.  \n",
    "\n",
    "Let's start with the first step. Because there are multiple variables that need to be transformed, we apply a for-loop here. "
   ]
  },
  {
   "cell_type": "code",
   "execution_count": 45,
   "metadata": {},
   "outputs": [],
   "source": [
    "for i in [8, 9, 10]:\n",
    "   crime.iloc[:,i] = crime.iloc[:, i].astype(int)\n",
    "#crime.iloc[:,7] = crime.iloc[:,7].astype(int)"
   ]
  },
  {
   "cell_type": "markdown",
   "metadata": {},
   "source": [
    "Now, the second step"
   ]
  },
  {
   "cell_type": "code",
   "execution_count": 47,
   "metadata": {},
   "outputs": [],
   "source": [
    "for j in [0,1,2,3,4, 7, 8, 9, 10, 11]:\n",
    "    crime.iloc[:,j] = crime.iloc[:,j].astype(str)"
   ]
  },
  {
   "cell_type": "markdown",
   "metadata": {},
   "source": [
    "Finally, the last step:"
   ]
  },
  {
   "cell_type": "code",
   "execution_count": 50,
   "metadata": {},
   "outputs": [],
   "source": [
    "crime.loc[:,\"Date\"] = pd.to_datetime(crime[\"Date\"], infer_datetime_format=True)"
   ]
  },
  {
   "cell_type": "markdown",
   "metadata": {},
   "source": [
    "With another look of eyes, we are sure that all variables are in the right format. We are ready to move forward! How exciting!"
   ]
  },
  {
   "cell_type": "code",
   "execution_count": 51,
   "metadata": {},
   "outputs": [
    {
     "data": {
      "text/plain": [
       "Case Number                     object\n",
       "Date                    datetime64[ns]\n",
       "Primary Type                    object\n",
       "Description                     object\n",
       "Location Description            object\n",
       "Arrest                            bool\n",
       "Domestic                          bool\n",
       "Beat                            object\n",
       "District                        object\n",
       "Ward                            object\n",
       "Community Area                  object\n",
       "Year                            object\n",
       "Latitude                       float64\n",
       "Longitude                      float64\n",
       "dtype: object"
      ]
     },
     "execution_count": 51,
     "metadata": {},
     "output_type": "execute_result"
    }
   ],
   "source": [
    "crime.dtypes"
   ]
  },
  {
   "cell_type": "code",
   "execution_count": null,
   "metadata": {},
   "outputs": [],
   "source": [
    "crime.to_csv(\"data/cleaned_crimes_from_2015.csv\")"
   ]
  },
  {
   "cell_type": "markdown",
   "metadata": {},
   "source": [
    "## Part III: Explorative Data Analysis:\n",
    "\n",
    "Now it's finally the time to answer our questions posed in part II. "
   ]
  }
 ],
 "metadata": {
  "kernelspec": {
   "display_name": "Python 3.8.5 ('base')",
   "language": "python",
   "name": "python3"
  },
  "language_info": {
   "codemirror_mode": {
    "name": "ipython",
    "version": 3
   },
   "file_extension": ".py",
   "mimetype": "text/x-python",
   "name": "python",
   "nbconvert_exporter": "python",
   "pygments_lexer": "ipython3",
   "version": "3.8.5"
  },
  "orig_nbformat": 4,
  "vscode": {
   "interpreter": {
    "hash": "eec5c6fc91f5f786fa374b73b74b9e9a1b486474a5ce01f6251073df8df83108"
   }
  }
 },
 "nbformat": 4,
 "nbformat_minor": 2
}
