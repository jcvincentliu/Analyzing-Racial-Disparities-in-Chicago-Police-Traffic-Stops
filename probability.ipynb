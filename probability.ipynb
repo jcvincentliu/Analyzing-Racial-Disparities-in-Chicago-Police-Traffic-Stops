{
 "cells": [
  {
   "cell_type": "code",
   "execution_count": 1,
   "metadata": {},
   "outputs": [],
   "source": [
    "import pandas as pd\n",
    "import matplotlib.pyplot as plt\n",
    "import seaborn as sns\n",
    "from datetime import datetime\n",
    "import cleaning_idot "
   ]
  },
  {
   "cell_type": "code",
   "execution_count": 2,
   "metadata": {},
   "outputs": [],
   "source": [
    "temp = pd.read_csv(\"data/IDOT_2021.csv\")"
   ]
  },
  {
   "cell_type": "code",
   "execution_count": 3,
   "metadata": {},
   "outputs": [
    {
     "name": "stderr",
     "output_type": "stream",
     "text": [
      "c:\\Users\\liu00\\anaconda3\\lib\\site-packages\\pandas\\core\\indexing.py:1596: SettingWithCopyWarning: \n",
      "A value is trying to be set on a copy of a slice from a DataFrame.\n",
      "Try using .loc[row_indexer,col_indexer] = value instead\n",
      "\n",
      "See the caveats in the documentation: https://pandas.pydata.org/pandas-docs/stable/user_guide/indexing.html#returning-a-view-versus-a-copy\n",
      "  self.obj[key] = _infer_fill_value(value)\n",
      "c:\\Users\\liu00\\anaconda3\\lib\\site-packages\\pandas\\core\\indexing.py:1745: SettingWithCopyWarning: \n",
      "A value is trying to be set on a copy of a slice from a DataFrame.\n",
      "Try using .loc[row_indexer,col_indexer] = value instead\n",
      "\n",
      "See the caveats in the documentation: https://pandas.pydata.org/pandas-docs/stable/user_guide/indexing.html#returning-a-view-versus-a-copy\n",
      "  isetter(ilocs[0], value)\n"
     ]
    }
   ],
   "source": [
    "temp_cleaned = cleaning_idot.cleaning(temp)"
   ]
  },
  {
   "cell_type": "code",
   "execution_count": 4,
   "metadata": {},
   "outputs": [
    {
     "data": {
      "text/html": [
       "<div>\n",
       "<style scoped>\n",
       "    .dataframe tbody tr th:only-of-type {\n",
       "        vertical-align: middle;\n",
       "    }\n",
       "\n",
       "    .dataframe tbody tr th {\n",
       "        vertical-align: top;\n",
       "    }\n",
       "\n",
       "    .dataframe thead th {\n",
       "        text-align: right;\n",
       "    }\n",
       "</style>\n",
       "<table border=\"1\" class=\"dataframe\">\n",
       "  <thead>\n",
       "    <tr style=\"text-align: right;\">\n",
       "      <th></th>\n",
       "      <th>DATESTOP</th>\n",
       "      <th>TIMESTOP</th>\n",
       "      <th>DURATION</th>\n",
       "      <th>VEHMAKE</th>\n",
       "      <th>VEHYEAR</th>\n",
       "      <th>YRBIRTH</th>\n",
       "      <th>DRSEX</th>\n",
       "      <th>DRRACE</th>\n",
       "      <th>YEARSTOP</th>\n",
       "      <th>DRAGE</th>\n",
       "    </tr>\n",
       "  </thead>\n",
       "  <tbody>\n",
       "    <tr>\n",
       "      <th>0</th>\n",
       "      <td>2021-01-01</td>\n",
       "      <td>00:33:00</td>\n",
       "      <td>5</td>\n",
       "      <td>CHEVROLET</td>\n",
       "      <td>2017.0</td>\n",
       "      <td>1993</td>\n",
       "      <td>1</td>\n",
       "      <td>4.0</td>\n",
       "      <td>2021</td>\n",
       "      <td>28</td>\n",
       "    </tr>\n",
       "    <tr>\n",
       "      <th>1</th>\n",
       "      <td>2021-01-01</td>\n",
       "      <td>01:50:00</td>\n",
       "      <td>4</td>\n",
       "      <td>FORD</td>\n",
       "      <td>2012.0</td>\n",
       "      <td>1957</td>\n",
       "      <td>1</td>\n",
       "      <td>2.0</td>\n",
       "      <td>2021</td>\n",
       "      <td>64</td>\n",
       "    </tr>\n",
       "    <tr>\n",
       "      <th>2</th>\n",
       "      <td>2021-01-01</td>\n",
       "      <td>08:50:00</td>\n",
       "      <td>4</td>\n",
       "      <td>FORD</td>\n",
       "      <td>2007.0</td>\n",
       "      <td>1967</td>\n",
       "      <td>1</td>\n",
       "      <td>2.0</td>\n",
       "      <td>2021</td>\n",
       "      <td>54</td>\n",
       "    </tr>\n",
       "    <tr>\n",
       "      <th>3</th>\n",
       "      <td>2021-01-01</td>\n",
       "      <td>12:41:00</td>\n",
       "      <td>6</td>\n",
       "      <td>BMW</td>\n",
       "      <td>1998.0</td>\n",
       "      <td>1990</td>\n",
       "      <td>1</td>\n",
       "      <td>2.0</td>\n",
       "      <td>2021</td>\n",
       "      <td>31</td>\n",
       "    </tr>\n",
       "    <tr>\n",
       "      <th>4</th>\n",
       "      <td>2021-01-01</td>\n",
       "      <td>13:51:00</td>\n",
       "      <td>5</td>\n",
       "      <td>TOYOTA</td>\n",
       "      <td>2002.0</td>\n",
       "      <td>1945</td>\n",
       "      <td>2</td>\n",
       "      <td>2.0</td>\n",
       "      <td>2021</td>\n",
       "      <td>76</td>\n",
       "    </tr>\n",
       "  </tbody>\n",
       "</table>\n",
       "</div>"
      ],
      "text/plain": [
       "     DATESTOP  TIMESTOP  DURATION    VEHMAKE  VEHYEAR  YRBIRTH DRSEX DRRACE  \\\n",
       "0  2021-01-01  00:33:00         5  CHEVROLET   2017.0     1993     1    4.0   \n",
       "1  2021-01-01  01:50:00         4       FORD   2012.0     1957     1    2.0   \n",
       "2  2021-01-01  08:50:00         4       FORD   2007.0     1967     1    2.0   \n",
       "3  2021-01-01  12:41:00         6        BMW   1998.0     1990     1    2.0   \n",
       "4  2021-01-01  13:51:00         5     TOYOTA   2002.0     1945     2    2.0   \n",
       "\n",
       "   YEARSTOP  DRAGE  \n",
       "0      2021     28  \n",
       "1      2021     64  \n",
       "2      2021     54  \n",
       "3      2021     31  \n",
       "4      2021     76  "
      ]
     },
     "execution_count": 4,
     "metadata": {},
     "output_type": "execute_result"
    }
   ],
   "source": [
    "temp_cleaned.head(5)"
   ]
  },
  {
   "cell_type": "code",
   "execution_count": 51,
   "metadata": {},
   "outputs": [
    {
     "data": {
      "text/plain": [
       "DATESTOP     object\n",
       "TIMESTOP     object\n",
       "DURATION      int64\n",
       "VEHMAKE      object\n",
       "VEHYEAR     float64\n",
       "YRBIRTH       int64\n",
       "DRSEX        object\n",
       "DRRACE       object\n",
       "YEARSTOP      int64\n",
       "DRAGE         int64\n",
       "dtype: object"
      ]
     },
     "execution_count": 51,
     "metadata": {},
     "output_type": "execute_result"
    }
   ],
   "source": [
    "temp_cleaned.dtypes"
   ]
  },
  {
   "cell_type": "code",
   "execution_count": 65,
   "metadata": {},
   "outputs": [
    {
     "data": {
      "text/plain": [
       "(377899, 10)"
      ]
     },
     "execution_count": 65,
     "metadata": {},
     "output_type": "execute_result"
    }
   ],
   "source": [
    "temp_cleaned.shape\n"
   ]
  },
  {
   "cell_type": "code",
   "execution_count": 5,
   "metadata": {},
   "outputs": [
    {
     "name": "stderr",
     "output_type": "stream",
     "text": [
      "c:\\Users\\liu00\\anaconda3\\lib\\site-packages\\pandas\\core\\indexing.py:1596: SettingWithCopyWarning: \n",
      "A value is trying to be set on a copy of a slice from a DataFrame.\n",
      "Try using .loc[row_indexer,col_indexer] = value instead\n",
      "\n",
      "See the caveats in the documentation: https://pandas.pydata.org/pandas-docs/stable/user_guide/indexing.html#returning-a-view-versus-a-copy\n",
      "  self.obj[key] = _infer_fill_value(value)\n",
      "c:\\Users\\liu00\\anaconda3\\lib\\site-packages\\pandas\\core\\indexing.py:1745: SettingWithCopyWarning: \n",
      "A value is trying to be set on a copy of a slice from a DataFrame.\n",
      "Try using .loc[row_indexer,col_indexer] = value instead\n",
      "\n",
      "See the caveats in the documentation: https://pandas.pydata.org/pandas-docs/stable/user_guide/indexing.html#returning-a-view-versus-a-copy\n",
      "  isetter(ilocs[0], value)\n"
     ]
    },
    {
     "data": {
      "text/plain": [
       "0.272"
      ]
     },
     "execution_count": 5,
     "metadata": {},
     "output_type": "execute_result"
    }
   ],
   "source": [
    "import probability as pr\n",
    "import pandas as pd\n",
    "\n",
    "#tp = pd.DataFrame({\"DRRACE\": [\"1\", \"2\", \"3\", \"4\", \"1\"], \"DRAGE\": [18, 21, 35, 56, 30]})\n",
    "pr.prob_age_race_adj(temp_cleaned, \"1.0\", (18, 30))"
   ]
  },
  {
   "cell_type": "code",
   "execution_count": 6,
   "metadata": {},
   "outputs": [],
   "source": [
    "dic = pr.prob_table(temp_cleaned)"
   ]
  },
  {
   "cell_type": "code",
   "execution_count": 10,
   "metadata": {},
   "outputs": [
    {
     "data": {
      "text/plain": [
       "{'race': [0.004, 0.063, 0.177, 0.19, 0.26, 0.148, 0.158, 1]}"
      ]
     },
     "execution_count": 10,
     "metadata": {},
     "output_type": "execute_result"
    }
   ],
   "source": [
    "dic"
   ]
  },
  {
   "cell_type": "code",
   "execution_count": 27,
   "metadata": {},
   "outputs": [],
   "source": [
    "all_race = [\"1.0\", \"2.0\", \"3.0\", \"4.0\", \"5.0\", \"6.0\", \"All\"]\n",
    "all_age = [\"0-16\", \"16-21\", \"21-26\", \"26-31\", \"31-41\", \"41-51\", \"51-101\", \"All\"]\n",
    "age_lst = []\n",
    "for age_group in all_age:\n",
    "    if age_group != \"All\":\n",
    "        age_l, age_h = age_group.split(\"-\")\n",
    "        age_l = int(age_l)\n",
    "        age_h = int(age_h)\n",
    "        age_lst.append((age_l, age_h))\n",
    "age_lst.append(\"All\")"
   ]
  },
  {
   "cell_type": "code",
   "execution_count": 28,
   "metadata": {},
   "outputs": [
    {
     "data": {
      "text/plain": [
       "[(0, 16), (16, 21), (21, 26), (26, 31), (31, 41), (41, 51), (51, 101), 'All']"
      ]
     },
     "execution_count": 28,
     "metadata": {},
     "output_type": "execute_result"
    }
   ],
   "source": [
    "age_lst"
   ]
  },
  {
   "cell_type": "code",
   "execution_count": null,
   "metadata": {},
   "outputs": [],
   "source": [
    "prob_dict = {}\n",
    "for race in all_race:\n",
    "    race_age_lst = []\n",
    "    for age in age_lst:\n",
    "        p_agj = pr.prob_age_race_adj(temp_cleaned, race = race, age_group = age)\n",
    "        race_age_lst.append(p_agj)\n",
    "    prob_dict[race] = race_age_lst\n"
   ]
  },
  {
   "cell_type": "code",
   "execution_count": 18,
   "metadata": {},
   "outputs": [],
   "source": [
    "p_dic = {'Race': ['1.0', '2.0', '3.0', '4.0', '5.0', '6.0', 'All Races'], 'Younger than 16': [0.0032, 0.0039, 0.0052, 0.0027, 0.0028, 0.0062, 0.0035], '16-20': [0.037, 0.0588, 0.0455, 0.0907, 0.0383, 0.0432, 0.0628], '21-25': [0.1134, 0.1821, 0.1442, 0.2029, 0.1291, 0.1276, 0.1771], '26-30': [0.1589, 0.2043, 0.1787, 0.1693, 0.1505, 0.1975, 0.1898], '31-40': [0.2615, 0.2655, 0.2625, 0.2451, 0.2617, 0.2623, 0.2604], '40-50': [0.1728, 0.1383, 0.1871, 0.1597, 0.1819, 0.1698, 0.1484], 'Older than 50': [0.2532, 0.1471, 0.1767, 0.1296, 0.2358, 0.1934, 0.158], 'All Ages': [0.1154, 0.6298, 0.0041, 0.2221, 0.026, 0.0026, 1]}"
   ]
  },
  {
   "cell_type": "code",
   "execution_count": 19,
   "metadata": {},
   "outputs": [
    {
     "data": {
      "text/html": [
       "<div>\n",
       "<style scoped>\n",
       "    .dataframe tbody tr th:only-of-type {\n",
       "        vertical-align: middle;\n",
       "    }\n",
       "\n",
       "    .dataframe tbody tr th {\n",
       "        vertical-align: top;\n",
       "    }\n",
       "\n",
       "    .dataframe thead th {\n",
       "        text-align: right;\n",
       "    }\n",
       "</style>\n",
       "<table border=\"1\" class=\"dataframe\">\n",
       "  <thead>\n",
       "    <tr style=\"text-align: right;\">\n",
       "      <th></th>\n",
       "      <th>Race</th>\n",
       "      <th>Younger than 16</th>\n",
       "      <th>16-20</th>\n",
       "      <th>21-25</th>\n",
       "      <th>26-30</th>\n",
       "      <th>31-40</th>\n",
       "      <th>40-50</th>\n",
       "      <th>Older than 50</th>\n",
       "      <th>All Ages</th>\n",
       "    </tr>\n",
       "  </thead>\n",
       "  <tbody>\n",
       "    <tr>\n",
       "      <th>0</th>\n",
       "      <td>1.0</td>\n",
       "      <td>0.0032</td>\n",
       "      <td>0.0370</td>\n",
       "      <td>0.1134</td>\n",
       "      <td>0.1589</td>\n",
       "      <td>0.2615</td>\n",
       "      <td>0.1728</td>\n",
       "      <td>0.2532</td>\n",
       "      <td>0.1154</td>\n",
       "    </tr>\n",
       "    <tr>\n",
       "      <th>1</th>\n",
       "      <td>2.0</td>\n",
       "      <td>0.0039</td>\n",
       "      <td>0.0588</td>\n",
       "      <td>0.1821</td>\n",
       "      <td>0.2043</td>\n",
       "      <td>0.2655</td>\n",
       "      <td>0.1383</td>\n",
       "      <td>0.1471</td>\n",
       "      <td>0.6298</td>\n",
       "    </tr>\n",
       "    <tr>\n",
       "      <th>2</th>\n",
       "      <td>3.0</td>\n",
       "      <td>0.0052</td>\n",
       "      <td>0.0455</td>\n",
       "      <td>0.1442</td>\n",
       "      <td>0.1787</td>\n",
       "      <td>0.2625</td>\n",
       "      <td>0.1871</td>\n",
       "      <td>0.1767</td>\n",
       "      <td>0.0041</td>\n",
       "    </tr>\n",
       "    <tr>\n",
       "      <th>3</th>\n",
       "      <td>4.0</td>\n",
       "      <td>0.0027</td>\n",
       "      <td>0.0907</td>\n",
       "      <td>0.2029</td>\n",
       "      <td>0.1693</td>\n",
       "      <td>0.2451</td>\n",
       "      <td>0.1597</td>\n",
       "      <td>0.1296</td>\n",
       "      <td>0.2221</td>\n",
       "    </tr>\n",
       "    <tr>\n",
       "      <th>4</th>\n",
       "      <td>5.0</td>\n",
       "      <td>0.0028</td>\n",
       "      <td>0.0383</td>\n",
       "      <td>0.1291</td>\n",
       "      <td>0.1505</td>\n",
       "      <td>0.2617</td>\n",
       "      <td>0.1819</td>\n",
       "      <td>0.2358</td>\n",
       "      <td>0.0260</td>\n",
       "    </tr>\n",
       "    <tr>\n",
       "      <th>5</th>\n",
       "      <td>6.0</td>\n",
       "      <td>0.0062</td>\n",
       "      <td>0.0432</td>\n",
       "      <td>0.1276</td>\n",
       "      <td>0.1975</td>\n",
       "      <td>0.2623</td>\n",
       "      <td>0.1698</td>\n",
       "      <td>0.1934</td>\n",
       "      <td>0.0026</td>\n",
       "    </tr>\n",
       "    <tr>\n",
       "      <th>6</th>\n",
       "      <td>All Races</td>\n",
       "      <td>0.0035</td>\n",
       "      <td>0.0628</td>\n",
       "      <td>0.1771</td>\n",
       "      <td>0.1898</td>\n",
       "      <td>0.2604</td>\n",
       "      <td>0.1484</td>\n",
       "      <td>0.1580</td>\n",
       "      <td>1.0000</td>\n",
       "    </tr>\n",
       "  </tbody>\n",
       "</table>\n",
       "</div>"
      ],
      "text/plain": [
       "        Race  Younger than 16   16-20   21-25   26-30   31-40   40-50  \\\n",
       "0        1.0           0.0032  0.0370  0.1134  0.1589  0.2615  0.1728   \n",
       "1        2.0           0.0039  0.0588  0.1821  0.2043  0.2655  0.1383   \n",
       "2        3.0           0.0052  0.0455  0.1442  0.1787  0.2625  0.1871   \n",
       "3        4.0           0.0027  0.0907  0.2029  0.1693  0.2451  0.1597   \n",
       "4        5.0           0.0028  0.0383  0.1291  0.1505  0.2617  0.1819   \n",
       "5        6.0           0.0062  0.0432  0.1276  0.1975  0.2623  0.1698   \n",
       "6  All Races           0.0035  0.0628  0.1771  0.1898  0.2604  0.1484   \n",
       "\n",
       "   Older than 50  All Ages  \n",
       "0         0.2532    0.1154  \n",
       "1         0.1471    0.6298  \n",
       "2         0.1767    0.0041  \n",
       "3         0.1296    0.2221  \n",
       "4         0.2358    0.0260  \n",
       "5         0.1934    0.0026  \n",
       "6         0.1580    1.0000  "
      ]
     },
     "execution_count": 19,
     "metadata": {},
     "output_type": "execute_result"
    }
   ],
   "source": [
    "pd.DataFrame(p_dic)"
   ]
  }
 ],
 "metadata": {
  "kernelspec": {
   "display_name": "Python 3.8.5 ('base')",
   "language": "python",
   "name": "python3"
  },
  "language_info": {
   "codemirror_mode": {
    "name": "ipython",
    "version": 3
   },
   "file_extension": ".py",
   "mimetype": "text/x-python",
   "name": "python",
   "nbconvert_exporter": "python",
   "pygments_lexer": "ipython3",
   "version": "3.8.5"
  },
  "orig_nbformat": 4,
  "vscode": {
   "interpreter": {
    "hash": "eec5c6fc91f5f786fa374b73b74b9e9a1b486474a5ce01f6251073df8df83108"
   }
  }
 },
 "nbformat": 4,
 "nbformat_minor": 2
}
